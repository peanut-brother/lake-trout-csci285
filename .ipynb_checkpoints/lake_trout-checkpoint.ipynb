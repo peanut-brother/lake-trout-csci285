{
 "cells": [
  {
   "cell_type": "code",
   "execution_count": 1,
   "id": "19ef9612-8515-45ef-8d9b-5728046300fd",
   "metadata": {},
   "outputs": [],
   "source": [
    "import pandas as pd"
   ]
  },
  {
   "cell_type": "markdown",
   "id": "a6c1f3de-4026-4a93-af21-253ac5e14a47",
   "metadata": {},
   "source": [
    "# Data Dictionary\n",
    "\n",
    "- **FishID** (String): The Unique ID of assigned to each fish. The first to places indicate LT for the fish species common name: Lake Trout. The remaining three digits are the unique number for the fish. Some fish ids are preceded by LLC. This comes from a previous method of labeling that included the lake name, Little Lake Clark or LLC, in the fish id instead of a seperate field.\n",
    "- **ReplicateID** (String): Unique identifier assigned to the replicate measurement transect. First five places are fish ID. Last place reflects transect letter. Some otoliths are labeled with a number after the fishID and a period.\n",
    "- **Axis** (String, either \"S\" or \"L\"): Categorical assignment of the growth transect along which measurements of ech annual growth increments were made. \"S\" denotes that measurements were made long the short axis on the dorsal side of the otolith immediately adjcent to the suculus from the nucleus toward the proximal edge. \"L\" indicates that measurements were made along the long axis of the otolith from the nucleus toward either the dorsal or ventral.\n",
    "- **Lake** (String, lake within Lake Clark National Park and Preserve): The name of the lake where the fish was captured.\n",
    "- **Year** (Integer, 1979 - 2012, years): The year of the growth increment.\n",
    "- **Age** (Integer, 1 - 29, years): Age of the fish at the time of the increment formation.\n",
    "- **Width** (Float, 0.013 - 0.186, milimeters): The width of annual growth invrement.\n",
    "\n",
    "## Data Quality\n",
    "\n",
    "- **Accuracy**: All attributes were spot checked and data was plotted to compare visually. Outliers were confirmed against images of otolith growth.\n",
    "- **Consistency**: measurements were taken from the otolith edge toward the center of the otolith.\n",
    "- **Completelness**: 171 of the 251 lake trout caught were not included because the growth increments were not clear enough to measure.\n",
    "- **Methodology**: Trout were captured from seven lakes in Lake Clark NPP in Southwest Alaska. They were captured using variable mesh floating and sinking gillnets or hook and line sampling in 2004 and 2011–2013 during the summer (June–September). Otolith increments were measured using the caliper function in Image Pro Premier software (Media Cybernetics, Silver Spring, MD)."
   ]
  },
  {
   "cell_type": "code",
   "execution_count": 2,
   "id": "fc1805db-012a-4d10-9533-83f40703dbdd",
   "metadata": {},
   "outputs": [],
   "source": [
    "df = pd.read_csv(\"./lakeTrout_otolithGrowth_LakeClarkNP_vonBiela_1979_2012.csv\")"
   ]
  },
  {
   "cell_type": "code",
   "execution_count": 3,
   "id": "d67589f4-9794-4660-aa64-8c72b68865d1",
   "metadata": {},
   "outputs": [
    {
     "data": {
      "text/html": [
       "<div>\n",
       "<style scoped>\n",
       "    .dataframe tbody tr th:only-of-type {\n",
       "        vertical-align: middle;\n",
       "    }\n",
       "\n",
       "    .dataframe tbody tr th {\n",
       "        vertical-align: top;\n",
       "    }\n",
       "\n",
       "    .dataframe thead th {\n",
       "        text-align: right;\n",
       "    }\n",
       "</style>\n",
       "<table border=\"1\" class=\"dataframe\">\n",
       "  <thead>\n",
       "    <tr style=\"text-align: right;\">\n",
       "      <th></th>\n",
       "      <th>FishID</th>\n",
       "      <th>ReplicateID</th>\n",
       "      <th>Axis</th>\n",
       "      <th>Lake</th>\n",
       "      <th>Year</th>\n",
       "      <th>Age</th>\n",
       "      <th>Width</th>\n",
       "    </tr>\n",
       "  </thead>\n",
       "  <tbody>\n",
       "    <tr>\n",
       "      <th>0</th>\n",
       "      <td>LLC_LT028</td>\n",
       "      <td>LT028A</td>\n",
       "      <td>S</td>\n",
       "      <td>Little Lake Clark</td>\n",
       "      <td>1987</td>\n",
       "      <td>4</td>\n",
       "      <td>0.048</td>\n",
       "    </tr>\n",
       "    <tr>\n",
       "      <th>1</th>\n",
       "      <td>LLC_LT028</td>\n",
       "      <td>LT028A</td>\n",
       "      <td>S</td>\n",
       "      <td>Little Lake Clark</td>\n",
       "      <td>1988</td>\n",
       "      <td>5</td>\n",
       "      <td>0.038</td>\n",
       "    </tr>\n",
       "    <tr>\n",
       "      <th>2</th>\n",
       "      <td>LLC_LT028</td>\n",
       "      <td>LT028A</td>\n",
       "      <td>S</td>\n",
       "      <td>Little Lake Clark</td>\n",
       "      <td>1989</td>\n",
       "      <td>6</td>\n",
       "      <td>0.046</td>\n",
       "    </tr>\n",
       "    <tr>\n",
       "      <th>3</th>\n",
       "      <td>LLC_LT028</td>\n",
       "      <td>LT028A</td>\n",
       "      <td>S</td>\n",
       "      <td>Little Lake Clark</td>\n",
       "      <td>1990</td>\n",
       "      <td>7</td>\n",
       "      <td>0.037</td>\n",
       "    </tr>\n",
       "    <tr>\n",
       "      <th>4</th>\n",
       "      <td>LLC_LT028</td>\n",
       "      <td>LT028A</td>\n",
       "      <td>S</td>\n",
       "      <td>Little Lake Clark</td>\n",
       "      <td>1991</td>\n",
       "      <td>8</td>\n",
       "      <td>0.040</td>\n",
       "    </tr>\n",
       "    <tr>\n",
       "      <th>...</th>\n",
       "      <td>...</td>\n",
       "      <td>...</td>\n",
       "      <td>...</td>\n",
       "      <td>...</td>\n",
       "      <td>...</td>\n",
       "      <td>...</td>\n",
       "      <td>...</td>\n",
       "    </tr>\n",
       "    <tr>\n",
       "      <th>2398</th>\n",
       "      <td>LT0105</td>\n",
       "      <td>LT105B</td>\n",
       "      <td>L</td>\n",
       "      <td>Telaquana</td>\n",
       "      <td>1997</td>\n",
       "      <td>13</td>\n",
       "      <td>0.062</td>\n",
       "    </tr>\n",
       "    <tr>\n",
       "      <th>2399</th>\n",
       "      <td>LT0105</td>\n",
       "      <td>LT105B</td>\n",
       "      <td>L</td>\n",
       "      <td>Telaquana</td>\n",
       "      <td>1998</td>\n",
       "      <td>14</td>\n",
       "      <td>0.045</td>\n",
       "    </tr>\n",
       "    <tr>\n",
       "      <th>2400</th>\n",
       "      <td>LT0105</td>\n",
       "      <td>LT105B</td>\n",
       "      <td>L</td>\n",
       "      <td>Telaquana</td>\n",
       "      <td>1999</td>\n",
       "      <td>15</td>\n",
       "      <td>0.037</td>\n",
       "    </tr>\n",
       "    <tr>\n",
       "      <th>2401</th>\n",
       "      <td>LT0105</td>\n",
       "      <td>LT105B</td>\n",
       "      <td>L</td>\n",
       "      <td>Telaquana</td>\n",
       "      <td>2000</td>\n",
       "      <td>16</td>\n",
       "      <td>0.035</td>\n",
       "    </tr>\n",
       "    <tr>\n",
       "      <th>2402</th>\n",
       "      <td>LT0105</td>\n",
       "      <td>LT105B</td>\n",
       "      <td>L</td>\n",
       "      <td>Telaquana</td>\n",
       "      <td>2001</td>\n",
       "      <td>17</td>\n",
       "      <td>0.030</td>\n",
       "    </tr>\n",
       "  </tbody>\n",
       "</table>\n",
       "<p>2403 rows × 7 columns</p>\n",
       "</div>"
      ],
      "text/plain": [
       "         FishID ReplicateID Axis               Lake  Year  Age  Width\n",
       "0     LLC_LT028      LT028A    S  Little Lake Clark  1987    4  0.048\n",
       "1     LLC_LT028      LT028A    S  Little Lake Clark  1988    5  0.038\n",
       "2     LLC_LT028      LT028A    S  Little Lake Clark  1989    6  0.046\n",
       "3     LLC_LT028      LT028A    S  Little Lake Clark  1990    7  0.037\n",
       "4     LLC_LT028      LT028A    S  Little Lake Clark  1991    8  0.040\n",
       "...         ...         ...  ...                ...   ...  ...    ...\n",
       "2398     LT0105      LT105B    L          Telaquana  1997   13  0.062\n",
       "2399     LT0105      LT105B    L          Telaquana  1998   14  0.045\n",
       "2400     LT0105      LT105B    L          Telaquana  1999   15  0.037\n",
       "2401     LT0105      LT105B    L          Telaquana  2000   16  0.035\n",
       "2402     LT0105      LT105B    L          Telaquana  2001   17  0.030\n",
       "\n",
       "[2403 rows x 7 columns]"
      ]
     },
     "execution_count": 3,
     "metadata": {},
     "output_type": "execute_result"
    }
   ],
   "source": [
    "df"
   ]
  },
  {
   "cell_type": "code",
   "execution_count": 4,
   "id": "e0422616-705b-44af-96ac-a102d4223f1d",
   "metadata": {},
   "outputs": [
    {
     "data": {
      "text/plain": [
       "(2403, 7)"
      ]
     },
     "execution_count": 4,
     "metadata": {},
     "output_type": "execute_result"
    }
   ],
   "source": [
    "df.shape"
   ]
  },
  {
   "cell_type": "code",
   "execution_count": 5,
   "id": "2eb73848-7788-417b-94aa-b26ff97b2102",
   "metadata": {},
   "outputs": [
    {
     "data": {
      "text/html": [
       "<div>\n",
       "<style scoped>\n",
       "    .dataframe tbody tr th:only-of-type {\n",
       "        vertical-align: middle;\n",
       "    }\n",
       "\n",
       "    .dataframe tbody tr th {\n",
       "        vertical-align: top;\n",
       "    }\n",
       "\n",
       "    .dataframe thead th {\n",
       "        text-align: right;\n",
       "    }\n",
       "</style>\n",
       "<table border=\"1\" class=\"dataframe\">\n",
       "  <thead>\n",
       "    <tr style=\"text-align: right;\">\n",
       "      <th></th>\n",
       "      <th>FishID</th>\n",
       "      <th>ReplicateID</th>\n",
       "      <th>Axis</th>\n",
       "      <th>Lake</th>\n",
       "      <th>Year</th>\n",
       "      <th>Age</th>\n",
       "      <th>Width</th>\n",
       "    </tr>\n",
       "  </thead>\n",
       "  <tbody>\n",
       "    <tr>\n",
       "      <th>0</th>\n",
       "      <td>LLC_LT028</td>\n",
       "      <td>LT028A</td>\n",
       "      <td>S</td>\n",
       "      <td>Little Lake Clark</td>\n",
       "      <td>1987</td>\n",
       "      <td>4</td>\n",
       "      <td>0.048</td>\n",
       "    </tr>\n",
       "    <tr>\n",
       "      <th>1</th>\n",
       "      <td>LLC_LT028</td>\n",
       "      <td>LT028A</td>\n",
       "      <td>S</td>\n",
       "      <td>Little Lake Clark</td>\n",
       "      <td>1988</td>\n",
       "      <td>5</td>\n",
       "      <td>0.038</td>\n",
       "    </tr>\n",
       "    <tr>\n",
       "      <th>2</th>\n",
       "      <td>LLC_LT028</td>\n",
       "      <td>LT028A</td>\n",
       "      <td>S</td>\n",
       "      <td>Little Lake Clark</td>\n",
       "      <td>1989</td>\n",
       "      <td>6</td>\n",
       "      <td>0.046</td>\n",
       "    </tr>\n",
       "    <tr>\n",
       "      <th>3</th>\n",
       "      <td>LLC_LT028</td>\n",
       "      <td>LT028A</td>\n",
       "      <td>S</td>\n",
       "      <td>Little Lake Clark</td>\n",
       "      <td>1990</td>\n",
       "      <td>7</td>\n",
       "      <td>0.037</td>\n",
       "    </tr>\n",
       "    <tr>\n",
       "      <th>4</th>\n",
       "      <td>LLC_LT028</td>\n",
       "      <td>LT028A</td>\n",
       "      <td>S</td>\n",
       "      <td>Little Lake Clark</td>\n",
       "      <td>1991</td>\n",
       "      <td>8</td>\n",
       "      <td>0.040</td>\n",
       "    </tr>\n",
       "  </tbody>\n",
       "</table>\n",
       "</div>"
      ],
      "text/plain": [
       "      FishID ReplicateID Axis               Lake  Year  Age  Width\n",
       "0  LLC_LT028      LT028A    S  Little Lake Clark  1987    4  0.048\n",
       "1  LLC_LT028      LT028A    S  Little Lake Clark  1988    5  0.038\n",
       "2  LLC_LT028      LT028A    S  Little Lake Clark  1989    6  0.046\n",
       "3  LLC_LT028      LT028A    S  Little Lake Clark  1990    7  0.037\n",
       "4  LLC_LT028      LT028A    S  Little Lake Clark  1991    8  0.040"
      ]
     },
     "execution_count": 5,
     "metadata": {},
     "output_type": "execute_result"
    }
   ],
   "source": [
    "df.head()"
   ]
  },
  {
   "cell_type": "code",
   "execution_count": 6,
   "id": "b3c0fd47-7229-4338-9d82-9293173f4028",
   "metadata": {},
   "outputs": [
    {
     "data": {
      "text/html": [
       "<div>\n",
       "<style scoped>\n",
       "    .dataframe tbody tr th:only-of-type {\n",
       "        vertical-align: middle;\n",
       "    }\n",
       "\n",
       "    .dataframe tbody tr th {\n",
       "        vertical-align: top;\n",
       "    }\n",
       "\n",
       "    .dataframe thead th {\n",
       "        text-align: right;\n",
       "    }\n",
       "</style>\n",
       "<table border=\"1\" class=\"dataframe\">\n",
       "  <thead>\n",
       "    <tr style=\"text-align: right;\">\n",
       "      <th></th>\n",
       "      <th>FishID</th>\n",
       "      <th>ReplicateID</th>\n",
       "      <th>Axis</th>\n",
       "      <th>Lake</th>\n",
       "      <th>Year</th>\n",
       "      <th>Age</th>\n",
       "      <th>Width</th>\n",
       "    </tr>\n",
       "  </thead>\n",
       "  <tbody>\n",
       "    <tr>\n",
       "      <th>2398</th>\n",
       "      <td>LT0105</td>\n",
       "      <td>LT105B</td>\n",
       "      <td>L</td>\n",
       "      <td>Telaquana</td>\n",
       "      <td>1997</td>\n",
       "      <td>13</td>\n",
       "      <td>0.062</td>\n",
       "    </tr>\n",
       "    <tr>\n",
       "      <th>2399</th>\n",
       "      <td>LT0105</td>\n",
       "      <td>LT105B</td>\n",
       "      <td>L</td>\n",
       "      <td>Telaquana</td>\n",
       "      <td>1998</td>\n",
       "      <td>14</td>\n",
       "      <td>0.045</td>\n",
       "    </tr>\n",
       "    <tr>\n",
       "      <th>2400</th>\n",
       "      <td>LT0105</td>\n",
       "      <td>LT105B</td>\n",
       "      <td>L</td>\n",
       "      <td>Telaquana</td>\n",
       "      <td>1999</td>\n",
       "      <td>15</td>\n",
       "      <td>0.037</td>\n",
       "    </tr>\n",
       "    <tr>\n",
       "      <th>2401</th>\n",
       "      <td>LT0105</td>\n",
       "      <td>LT105B</td>\n",
       "      <td>L</td>\n",
       "      <td>Telaquana</td>\n",
       "      <td>2000</td>\n",
       "      <td>16</td>\n",
       "      <td>0.035</td>\n",
       "    </tr>\n",
       "    <tr>\n",
       "      <th>2402</th>\n",
       "      <td>LT0105</td>\n",
       "      <td>LT105B</td>\n",
       "      <td>L</td>\n",
       "      <td>Telaquana</td>\n",
       "      <td>2001</td>\n",
       "      <td>17</td>\n",
       "      <td>0.030</td>\n",
       "    </tr>\n",
       "  </tbody>\n",
       "</table>\n",
       "</div>"
      ],
      "text/plain": [
       "      FishID ReplicateID Axis       Lake  Year  Age  Width\n",
       "2398  LT0105      LT105B    L  Telaquana  1997   13  0.062\n",
       "2399  LT0105      LT105B    L  Telaquana  1998   14  0.045\n",
       "2400  LT0105      LT105B    L  Telaquana  1999   15  0.037\n",
       "2401  LT0105      LT105B    L  Telaquana  2000   16  0.035\n",
       "2402  LT0105      LT105B    L  Telaquana  2001   17  0.030"
      ]
     },
     "execution_count": 6,
     "metadata": {},
     "output_type": "execute_result"
    }
   ],
   "source": [
    "df.tail()"
   ]
  },
  {
   "cell_type": "code",
   "execution_count": 7,
   "id": "8405b181-4cde-4970-96d3-5e937dd70fd4",
   "metadata": {},
   "outputs": [],
   "source": [
    "# Making column names lowercase for consistency\n",
    "df.columns = [x.lower() for x in df.columns.to_list()]"
   ]
  },
  {
   "cell_type": "code",
   "execution_count": 8,
   "id": "ce656770-63ca-491c-be6d-57a8fddb208f",
   "metadata": {},
   "outputs": [
    {
     "data": {
      "text/plain": [
       "Index(['fishid', 'replicateid', 'axis', 'lake', 'year', 'age', 'width'], dtype='object')"
      ]
     },
     "execution_count": 8,
     "metadata": {},
     "output_type": "execute_result"
    }
   ],
   "source": [
    "df.columns"
   ]
  },
  {
   "cell_type": "code",
   "execution_count": 9,
   "id": "3ce06f05-d732-49ed-9d92-d828036a2dc1",
   "metadata": {},
   "outputs": [
    {
     "data": {
      "text/html": [
       "<div>\n",
       "<style scoped>\n",
       "    .dataframe tbody tr th:only-of-type {\n",
       "        vertical-align: middle;\n",
       "    }\n",
       "\n",
       "    .dataframe tbody tr th {\n",
       "        vertical-align: top;\n",
       "    }\n",
       "\n",
       "    .dataframe thead th {\n",
       "        text-align: right;\n",
       "    }\n",
       "</style>\n",
       "<table border=\"1\" class=\"dataframe\">\n",
       "  <thead>\n",
       "    <tr style=\"text-align: right;\">\n",
       "      <th></th>\n",
       "      <th>fishid</th>\n",
       "      <th>replicateid</th>\n",
       "      <th>axis</th>\n",
       "      <th>lake</th>\n",
       "      <th>year</th>\n",
       "      <th>age</th>\n",
       "      <th>width</th>\n",
       "    </tr>\n",
       "  </thead>\n",
       "  <tbody>\n",
       "    <tr>\n",
       "      <th>1199</th>\n",
       "      <td>LT0126</td>\n",
       "      <td>LT126.2B</td>\n",
       "      <td>S</td>\n",
       "      <td>Lake Clark</td>\n",
       "      <td>2006</td>\n",
       "      <td>10</td>\n",
       "      <td>0.028</td>\n",
       "    </tr>\n",
       "    <tr>\n",
       "      <th>1205</th>\n",
       "      <td>LT0126</td>\n",
       "      <td>LT126.2B</td>\n",
       "      <td>S</td>\n",
       "      <td>Lake Clark</td>\n",
       "      <td>2009</td>\n",
       "      <td>13</td>\n",
       "      <td>0.035</td>\n",
       "    </tr>\n",
       "    <tr>\n",
       "      <th>2002</th>\n",
       "      <td>LT0223</td>\n",
       "      <td>LT223.2A</td>\n",
       "      <td>S</td>\n",
       "      <td>Lachbuna</td>\n",
       "      <td>2005</td>\n",
       "      <td>13</td>\n",
       "      <td>0.046</td>\n",
       "    </tr>\n",
       "    <tr>\n",
       "      <th>2006</th>\n",
       "      <td>LT0223</td>\n",
       "      <td>LT223.2A</td>\n",
       "      <td>S</td>\n",
       "      <td>Lachbuna</td>\n",
       "      <td>2007</td>\n",
       "      <td>15</td>\n",
       "      <td>0.038</td>\n",
       "    </tr>\n",
       "  </tbody>\n",
       "</table>\n",
       "</div>"
      ],
      "text/plain": [
       "      fishid replicateid axis        lake  year  age  width\n",
       "1199  LT0126    LT126.2B    S  Lake Clark  2006   10  0.028\n",
       "1205  LT0126    LT126.2B    S  Lake Clark  2009   13  0.035\n",
       "2002  LT0223    LT223.2A    S    Lachbuna  2005   13  0.046\n",
       "2006  LT0223    LT223.2A    S    Lachbuna  2007   15  0.038"
      ]
     },
     "execution_count": 9,
     "metadata": {},
     "output_type": "execute_result"
    }
   ],
   "source": [
    "duplicates = df[df.duplicated()]\n",
    "\n",
    "duplicates"
   ]
  },
  {
   "cell_type": "code",
   "execution_count": 10,
   "id": "ba916755-5ed6-4342-9fed-72fdc20328af",
   "metadata": {},
   "outputs": [
    {
     "data": {
      "text/html": [
       "<div>\n",
       "<style scoped>\n",
       "    .dataframe tbody tr th:only-of-type {\n",
       "        vertical-align: middle;\n",
       "    }\n",
       "\n",
       "    .dataframe tbody tr th {\n",
       "        vertical-align: top;\n",
       "    }\n",
       "\n",
       "    .dataframe thead th {\n",
       "        text-align: right;\n",
       "    }\n",
       "</style>\n",
       "<table border=\"1\" class=\"dataframe\">\n",
       "  <thead>\n",
       "    <tr style=\"text-align: right;\">\n",
       "      <th></th>\n",
       "      <th>fishid</th>\n",
       "      <th>replicateid</th>\n",
       "      <th>axis</th>\n",
       "      <th>lake</th>\n",
       "      <th>year</th>\n",
       "      <th>age</th>\n",
       "      <th>width</th>\n",
       "    </tr>\n",
       "  </thead>\n",
       "  <tbody>\n",
       "    <tr>\n",
       "      <th>0</th>\n",
       "      <td>LLC_LT028</td>\n",
       "      <td>LT028A</td>\n",
       "      <td>S</td>\n",
       "      <td>Little Lake Clark</td>\n",
       "      <td>1987</td>\n",
       "      <td>4</td>\n",
       "      <td>0.048</td>\n",
       "    </tr>\n",
       "    <tr>\n",
       "      <th>1</th>\n",
       "      <td>LLC_LT028</td>\n",
       "      <td>LT028A</td>\n",
       "      <td>S</td>\n",
       "      <td>Little Lake Clark</td>\n",
       "      <td>1988</td>\n",
       "      <td>5</td>\n",
       "      <td>0.038</td>\n",
       "    </tr>\n",
       "    <tr>\n",
       "      <th>2</th>\n",
       "      <td>LLC_LT028</td>\n",
       "      <td>LT028A</td>\n",
       "      <td>S</td>\n",
       "      <td>Little Lake Clark</td>\n",
       "      <td>1989</td>\n",
       "      <td>6</td>\n",
       "      <td>0.046</td>\n",
       "    </tr>\n",
       "    <tr>\n",
       "      <th>3</th>\n",
       "      <td>LLC_LT028</td>\n",
       "      <td>LT028A</td>\n",
       "      <td>S</td>\n",
       "      <td>Little Lake Clark</td>\n",
       "      <td>1990</td>\n",
       "      <td>7</td>\n",
       "      <td>0.037</td>\n",
       "    </tr>\n",
       "    <tr>\n",
       "      <th>4</th>\n",
       "      <td>LLC_LT028</td>\n",
       "      <td>LT028A</td>\n",
       "      <td>S</td>\n",
       "      <td>Little Lake Clark</td>\n",
       "      <td>1991</td>\n",
       "      <td>8</td>\n",
       "      <td>0.040</td>\n",
       "    </tr>\n",
       "    <tr>\n",
       "      <th>...</th>\n",
       "      <td>...</td>\n",
       "      <td>...</td>\n",
       "      <td>...</td>\n",
       "      <td>...</td>\n",
       "      <td>...</td>\n",
       "      <td>...</td>\n",
       "      <td>...</td>\n",
       "    </tr>\n",
       "    <tr>\n",
       "      <th>2398</th>\n",
       "      <td>LT0105</td>\n",
       "      <td>LT105B</td>\n",
       "      <td>L</td>\n",
       "      <td>Telaquana</td>\n",
       "      <td>1997</td>\n",
       "      <td>13</td>\n",
       "      <td>0.062</td>\n",
       "    </tr>\n",
       "    <tr>\n",
       "      <th>2399</th>\n",
       "      <td>LT0105</td>\n",
       "      <td>LT105B</td>\n",
       "      <td>L</td>\n",
       "      <td>Telaquana</td>\n",
       "      <td>1998</td>\n",
       "      <td>14</td>\n",
       "      <td>0.045</td>\n",
       "    </tr>\n",
       "    <tr>\n",
       "      <th>2400</th>\n",
       "      <td>LT0105</td>\n",
       "      <td>LT105B</td>\n",
       "      <td>L</td>\n",
       "      <td>Telaquana</td>\n",
       "      <td>1999</td>\n",
       "      <td>15</td>\n",
       "      <td>0.037</td>\n",
       "    </tr>\n",
       "    <tr>\n",
       "      <th>2401</th>\n",
       "      <td>LT0105</td>\n",
       "      <td>LT105B</td>\n",
       "      <td>L</td>\n",
       "      <td>Telaquana</td>\n",
       "      <td>2000</td>\n",
       "      <td>16</td>\n",
       "      <td>0.035</td>\n",
       "    </tr>\n",
       "    <tr>\n",
       "      <th>2402</th>\n",
       "      <td>LT0105</td>\n",
       "      <td>LT105B</td>\n",
       "      <td>L</td>\n",
       "      <td>Telaquana</td>\n",
       "      <td>2001</td>\n",
       "      <td>17</td>\n",
       "      <td>0.030</td>\n",
       "    </tr>\n",
       "  </tbody>\n",
       "</table>\n",
       "<p>2399 rows × 7 columns</p>\n",
       "</div>"
      ],
      "text/plain": [
       "         fishid replicateid axis               lake  year  age  width\n",
       "0     LLC_LT028      LT028A    S  Little Lake Clark  1987    4  0.048\n",
       "1     LLC_LT028      LT028A    S  Little Lake Clark  1988    5  0.038\n",
       "2     LLC_LT028      LT028A    S  Little Lake Clark  1989    6  0.046\n",
       "3     LLC_LT028      LT028A    S  Little Lake Clark  1990    7  0.037\n",
       "4     LLC_LT028      LT028A    S  Little Lake Clark  1991    8  0.040\n",
       "...         ...         ...  ...                ...   ...  ...    ...\n",
       "2398     LT0105      LT105B    L          Telaquana  1997   13  0.062\n",
       "2399     LT0105      LT105B    L          Telaquana  1998   14  0.045\n",
       "2400     LT0105      LT105B    L          Telaquana  1999   15  0.037\n",
       "2401     LT0105      LT105B    L          Telaquana  2000   16  0.035\n",
       "2402     LT0105      LT105B    L          Telaquana  2001   17  0.030\n",
       "\n",
       "[2399 rows x 7 columns]"
      ]
     },
     "execution_count": 10,
     "metadata": {},
     "output_type": "execute_result"
    }
   ],
   "source": [
    "# Dropping duplicates that may have resulted from multiple rows being entered multiple times, either by people or an automatic system\n",
    "df.drop_duplicates()"
   ]
  },
  {
   "cell_type": "code",
   "execution_count": 11,
   "id": "a268beb5-9028-4f34-a5c0-4610912a6792",
   "metadata": {},
   "outputs": [
    {
     "data": {
      "text/plain": [
       "80"
      ]
     },
     "execution_count": 11,
     "metadata": {},
     "output_type": "execute_result"
    }
   ],
   "source": [
    "# display number of unique fish being studied by getting nuber of unique fish IDs\n",
    "df['fishid'].nunique()"
   ]
  },
  {
   "cell_type": "code",
   "execution_count": 12,
   "id": "84d8eab2-472e-4dd7-a8ba-8529d0b4c6dc",
   "metadata": {},
   "outputs": [
    {
     "data": {
      "text/html": [
       "<div>\n",
       "<style scoped>\n",
       "    .dataframe tbody tr th:only-of-type {\n",
       "        vertical-align: middle;\n",
       "    }\n",
       "\n",
       "    .dataframe tbody tr th {\n",
       "        vertical-align: top;\n",
       "    }\n",
       "\n",
       "    .dataframe thead th {\n",
       "        text-align: right;\n",
       "    }\n",
       "</style>\n",
       "<table border=\"1\" class=\"dataframe\">\n",
       "  <thead>\n",
       "    <tr style=\"text-align: right;\">\n",
       "      <th></th>\n",
       "      <th>year</th>\n",
       "      <th>age</th>\n",
       "      <th>width</th>\n",
       "    </tr>\n",
       "  </thead>\n",
       "  <tbody>\n",
       "    <tr>\n",
       "      <th>count</th>\n",
       "      <td>2403.000000</td>\n",
       "      <td>2403.000000</td>\n",
       "      <td>2403.000000</td>\n",
       "    </tr>\n",
       "    <tr>\n",
       "      <th>mean</th>\n",
       "      <td>2001.590096</td>\n",
       "      <td>10.240117</td>\n",
       "      <td>0.042735</td>\n",
       "    </tr>\n",
       "    <tr>\n",
       "      <th>std</th>\n",
       "      <td>5.833994</td>\n",
       "      <td>4.617711</td>\n",
       "      <td>0.020493</td>\n",
       "    </tr>\n",
       "    <tr>\n",
       "      <th>min</th>\n",
       "      <td>1979.000000</td>\n",
       "      <td>1.000000</td>\n",
       "      <td>0.013000</td>\n",
       "    </tr>\n",
       "    <tr>\n",
       "      <th>25%</th>\n",
       "      <td>1998.000000</td>\n",
       "      <td>7.000000</td>\n",
       "      <td>0.028000</td>\n",
       "    </tr>\n",
       "    <tr>\n",
       "      <th>50%</th>\n",
       "      <td>2002.000000</td>\n",
       "      <td>10.000000</td>\n",
       "      <td>0.038000</td>\n",
       "    </tr>\n",
       "    <tr>\n",
       "      <th>75%</th>\n",
       "      <td>2006.000000</td>\n",
       "      <td>13.000000</td>\n",
       "      <td>0.052000</td>\n",
       "    </tr>\n",
       "    <tr>\n",
       "      <th>max</th>\n",
       "      <td>2012.000000</td>\n",
       "      <td>29.000000</td>\n",
       "      <td>0.186000</td>\n",
       "    </tr>\n",
       "  </tbody>\n",
       "</table>\n",
       "</div>"
      ],
      "text/plain": [
       "              year          age        width\n",
       "count  2403.000000  2403.000000  2403.000000\n",
       "mean   2001.590096    10.240117     0.042735\n",
       "std       5.833994     4.617711     0.020493\n",
       "min    1979.000000     1.000000     0.013000\n",
       "25%    1998.000000     7.000000     0.028000\n",
       "50%    2002.000000    10.000000     0.038000\n",
       "75%    2006.000000    13.000000     0.052000\n",
       "max    2012.000000    29.000000     0.186000"
      ]
     },
     "execution_count": 12,
     "metadata": {},
     "output_type": "execute_result"
    }
   ],
   "source": [
    "df.describe()"
   ]
  },
  {
   "cell_type": "markdown",
   "id": "74f40243-26c9-4606-82ee-f9e699c2a022",
   "metadata": {},
   "source": [
    ".describe() output alligns properly with min and max values in data dictionary"
   ]
  },
  {
   "cell_type": "code",
   "execution_count": 13,
   "id": "e4c71678-3252-45ba-af55-d810cdae8385",
   "metadata": {},
   "outputs": [
    {
     "data": {
      "text/plain": [
       "1"
      ]
     },
     "execution_count": 13,
     "metadata": {},
     "output_type": "execute_result"
    }
   ],
   "source": [
    "df['age'].min()"
   ]
  },
  {
   "cell_type": "code",
   "execution_count": 14,
   "id": "56755e65-8fe9-42b0-8e5b-71816f6c510c",
   "metadata": {},
   "outputs": [
    {
     "data": {
      "text/plain": [
       "29"
      ]
     },
     "execution_count": 14,
     "metadata": {},
     "output_type": "execute_result"
    }
   ],
   "source": [
    "df['age'].max()"
   ]
  },
  {
   "cell_type": "code",
   "execution_count": 15,
   "id": "d26762c6-66e8-4d9b-8d86-b39e52e63956",
   "metadata": {},
   "outputs": [
    {
     "data": {
      "text/plain": [
       "2001    173\n",
       "2002    165\n",
       "2000    160\n",
       "1999    142\n",
       "2006    139\n",
       "2007    139\n",
       "2008    137\n",
       "2005    137\n",
       "2003    135\n",
       "2004    131\n",
       "2009    127\n",
       "1998    126\n",
       "1997    100\n",
       "1996     89\n",
       "2010     83\n",
       "1995     68\n",
       "2011     60\n",
       "1994     57\n",
       "1993     48\n",
       "1992     39\n",
       "1991     32\n",
       "1990     26\n",
       "1989     19\n",
       "1988     15\n",
       "2012     13\n",
       "1987     12\n",
       "1986      8\n",
       "1985      4\n",
       "1984      4\n",
       "1983      4\n",
       "1982      4\n",
       "1981      3\n",
       "1980      2\n",
       "1979      2\n",
       "Name: year, dtype: int64"
      ]
     },
     "execution_count": 15,
     "metadata": {},
     "output_type": "execute_result"
    }
   ],
   "source": [
    "df['year'].value_counts()"
   ]
  },
  {
   "cell_type": "code",
   "execution_count": 16,
   "id": "32035566-d6cc-43c1-807c-bfce85381f9b",
   "metadata": {},
   "outputs": [
    {
     "data": {
      "text/plain": [
       "<AxesSubplot:>"
      ]
     },
     "execution_count": 16,
     "metadata": {},
     "output_type": "execute_result"
    },
    {
     "data": {
      "image/png": "[encoded data removed]",
      "text/plain": [
       "<Figure size 432x288 with 1 Axes>"
      ]
     },
     "metadata": {
      "needs_background": "light"
     },
     "output_type": "display_data"
    }
   ],
   "source": [
    "df['year'].hist()"
   ]
  },
  {
   "cell_type": "markdown",
   "id": "b5ef26dc-37c1-4a0d-8f85-c2c508cd7cf0",
   "metadata": {},
   "source": [
    "# value_counts vs hist\n",
    "\n",
    "- value_counts: value_counts can be hard to with a large number of unique values, but it is much better for getting accurate counts for each value. value counts also gives data types\n",
    "- hist: hist does not provide accurate counts for any of the particular values, or a list of values, but it does give a much better idea of the general distribution of values"
   ]
  },
  {
   "cell_type": "code",
   "execution_count": 17,
   "id": "4ebf4e5c-2613-4a96-b229-5be212ede7dc",
   "metadata": {},
   "outputs": [
    {
     "data": {
      "text/plain": [
       "<AxesSubplot:>"
      ]
     },
     "execution_count": 17,
     "metadata": {},
     "output_type": "execute_result"
    },
    {
     "data": {
      "image/png": "[encoded data removed]",
      "text/plain": [
       "<Figure size 432x288 with 1 Axes>"
      ]
     },
     "metadata": {
      "needs_background": "light"
     },
     "output_type": "display_data"
    }
   ],
   "source": [
    "df['age'].hist()"
   ]
  },
  {
   "cell_type": "code",
   "execution_count": 18,
   "id": "5d448608-58b9-4e82-976b-443f14b65f14",
   "metadata": {},
   "outputs": [
    {
     "data": {
      "text/plain": [
       "<AxesSubplot:>"
      ]
     },
     "execution_count": 18,
     "metadata": {},
     "output_type": "execute_result"
    },
    {
     "data": {
      "image/png": "[encoded data removed]",
      "text/plain": [
       "<Figure size 432x288 with 1 Axes>"
      ]
     },
     "metadata": {
      "needs_background": "light"
     },
     "output_type": "display_data"
    }
   ],
   "source": [
    "df['width'].hist()"
   ]
  },
  {
   "cell_type": "code",
   "execution_count": 19,
   "id": "135b45b7-ca56-441e-8892-70c545de9a39",
   "metadata": {},
   "outputs": [
    {
     "data": {
      "text/plain": [
       "Telaquana            431\n",
       "Kontrashibuna        409\n",
       "Portage              373\n",
       "Fishtrap             358\n",
       "Lake Clark           331\n",
       "Lachbuna             199\n",
       "Little Lake Clark    161\n",
       "Kijik                141\n",
       "Name: lake, dtype: int64"
      ]
     },
     "execution_count": 19,
     "metadata": {},
     "output_type": "execute_result"
    }
   ],
   "source": [
    "df['lake'].value_counts()"
   ]
  },
  {
   "cell_type": "code",
   "execution_count": 20,
   "id": "926a3d7e-6a6e-482b-9f77-51442d606f75",
   "metadata": {},
   "outputs": [],
   "source": [
    "# used website https://www.geeksforgeeks.org/different-ways-to-create-pandas-dataframe/ for ideas on how to create new dataframe\n",
    "data = {'lake':df['lake'].to_list(),\n",
    "       'fish_count':df['fishid'].to_list()}\n",
    "lake_fish_count_df = pd.DataFrame(data)"
   ]
  },
  {
   "cell_type": "code",
   "execution_count": 21,
   "id": "ea2685e7-bb1e-48c1-ae85-dd71bbad3f53",
   "metadata": {},
   "outputs": [
    {
     "data": {
      "text/html": [
       "<div>\n",
       "<style scoped>\n",
       "    .dataframe tbody tr th:only-of-type {\n",
       "        vertical-align: middle;\n",
       "    }\n",
       "\n",
       "    .dataframe tbody tr th {\n",
       "        vertical-align: top;\n",
       "    }\n",
       "\n",
       "    .dataframe thead th {\n",
       "        text-align: right;\n",
       "    }\n",
       "</style>\n",
       "<table border=\"1\" class=\"dataframe\">\n",
       "  <thead>\n",
       "    <tr style=\"text-align: right;\">\n",
       "      <th></th>\n",
       "      <th>lake</th>\n",
       "      <th>fish_count</th>\n",
       "    </tr>\n",
       "  </thead>\n",
       "  <tbody>\n",
       "    <tr>\n",
       "      <th>0</th>\n",
       "      <td>Little Lake Clark</td>\n",
       "      <td>LLC_LT028</td>\n",
       "    </tr>\n",
       "    <tr>\n",
       "      <th>1</th>\n",
       "      <td>Little Lake Clark</td>\n",
       "      <td>LLC_LT028</td>\n",
       "    </tr>\n",
       "    <tr>\n",
       "      <th>2</th>\n",
       "      <td>Little Lake Clark</td>\n",
       "      <td>LLC_LT028</td>\n",
       "    </tr>\n",
       "    <tr>\n",
       "      <th>3</th>\n",
       "      <td>Little Lake Clark</td>\n",
       "      <td>LLC_LT028</td>\n",
       "    </tr>\n",
       "    <tr>\n",
       "      <th>4</th>\n",
       "      <td>Little Lake Clark</td>\n",
       "      <td>LLC_LT028</td>\n",
       "    </tr>\n",
       "    <tr>\n",
       "      <th>...</th>\n",
       "      <td>...</td>\n",
       "      <td>...</td>\n",
       "    </tr>\n",
       "    <tr>\n",
       "      <th>2398</th>\n",
       "      <td>Telaquana</td>\n",
       "      <td>LT0105</td>\n",
       "    </tr>\n",
       "    <tr>\n",
       "      <th>2399</th>\n",
       "      <td>Telaquana</td>\n",
       "      <td>LT0105</td>\n",
       "    </tr>\n",
       "    <tr>\n",
       "      <th>2400</th>\n",
       "      <td>Telaquana</td>\n",
       "      <td>LT0105</td>\n",
       "    </tr>\n",
       "    <tr>\n",
       "      <th>2401</th>\n",
       "      <td>Telaquana</td>\n",
       "      <td>LT0105</td>\n",
       "    </tr>\n",
       "    <tr>\n",
       "      <th>2402</th>\n",
       "      <td>Telaquana</td>\n",
       "      <td>LT0105</td>\n",
       "    </tr>\n",
       "  </tbody>\n",
       "</table>\n",
       "<p>2403 rows × 2 columns</p>\n",
       "</div>"
      ],
      "text/plain": [
       "                   lake fish_count\n",
       "0     Little Lake Clark  LLC_LT028\n",
       "1     Little Lake Clark  LLC_LT028\n",
       "2     Little Lake Clark  LLC_LT028\n",
       "3     Little Lake Clark  LLC_LT028\n",
       "4     Little Lake Clark  LLC_LT028\n",
       "...                 ...        ...\n",
       "2398          Telaquana     LT0105\n",
       "2399          Telaquana     LT0105\n",
       "2400          Telaquana     LT0105\n",
       "2401          Telaquana     LT0105\n",
       "2402          Telaquana     LT0105\n",
       "\n",
       "[2403 rows x 2 columns]"
      ]
     },
     "execution_count": 21,
     "metadata": {},
     "output_type": "execute_result"
    }
   ],
   "source": [
    "lake_fish_count_df"
   ]
  },
  {
   "cell_type": "code",
   "execution_count": 22,
   "id": "199bf574-5835-4788-ac81-408de255411b",
   "metadata": {},
   "outputs": [
    {
     "data": {
      "text/html": [
       "<div>\n",
       "<style scoped>\n",
       "    .dataframe tbody tr th:only-of-type {\n",
       "        vertical-align: middle;\n",
       "    }\n",
       "\n",
       "    .dataframe tbody tr th {\n",
       "        vertical-align: top;\n",
       "    }\n",
       "\n",
       "    .dataframe thead th {\n",
       "        text-align: right;\n",
       "    }\n",
       "</style>\n",
       "<table border=\"1\" class=\"dataframe\">\n",
       "  <thead>\n",
       "    <tr style=\"text-align: right;\">\n",
       "      <th></th>\n",
       "      <th>lake</th>\n",
       "      <th>fish_count</th>\n",
       "    </tr>\n",
       "  </thead>\n",
       "  <tbody>\n",
       "    <tr>\n",
       "      <th>0</th>\n",
       "      <td>Little Lake Clark</td>\n",
       "      <td>LLC_LT028</td>\n",
       "    </tr>\n",
       "    <tr>\n",
       "      <th>44</th>\n",
       "      <td>Little Lake Clark</td>\n",
       "      <td>LLC_LT033</td>\n",
       "    </tr>\n",
       "    <tr>\n",
       "      <th>79</th>\n",
       "      <td>Little Lake Clark</td>\n",
       "      <td>LLC_LT036</td>\n",
       "    </tr>\n",
       "    <tr>\n",
       "      <th>99</th>\n",
       "      <td>Little Lake Clark</td>\n",
       "      <td>LLC_LT039</td>\n",
       "    </tr>\n",
       "    <tr>\n",
       "      <th>122</th>\n",
       "      <td>Little Lake Clark</td>\n",
       "      <td>LLC_LT040</td>\n",
       "    </tr>\n",
       "    <tr>\n",
       "      <th>...</th>\n",
       "      <td>...</td>\n",
       "      <td>...</td>\n",
       "    </tr>\n",
       "    <tr>\n",
       "      <th>2160</th>\n",
       "      <td>Portage</td>\n",
       "      <td>LT0233</td>\n",
       "    </tr>\n",
       "    <tr>\n",
       "      <th>2205</th>\n",
       "      <td>Portage</td>\n",
       "      <td>LT0235</td>\n",
       "    </tr>\n",
       "    <tr>\n",
       "      <th>2260</th>\n",
       "      <td>Portage</td>\n",
       "      <td>LT0238</td>\n",
       "    </tr>\n",
       "    <tr>\n",
       "      <th>2320</th>\n",
       "      <td>Portage</td>\n",
       "      <td>LT0245</td>\n",
       "    </tr>\n",
       "    <tr>\n",
       "      <th>2361</th>\n",
       "      <td>Portage</td>\n",
       "      <td>LT0248</td>\n",
       "    </tr>\n",
       "  </tbody>\n",
       "</table>\n",
       "<p>80 rows × 2 columns</p>\n",
       "</div>"
      ],
      "text/plain": [
       "                   lake fish_count\n",
       "0     Little Lake Clark  LLC_LT028\n",
       "44    Little Lake Clark  LLC_LT033\n",
       "79    Little Lake Clark  LLC_LT036\n",
       "99    Little Lake Clark  LLC_LT039\n",
       "122   Little Lake Clark  LLC_LT040\n",
       "...                 ...        ...\n",
       "2160            Portage     LT0233\n",
       "2205            Portage     LT0235\n",
       "2260            Portage     LT0238\n",
       "2320            Portage     LT0245\n",
       "2361            Portage     LT0248\n",
       "\n",
       "[80 rows x 2 columns]"
      ]
     },
     "execution_count": 22,
     "metadata": {},
     "output_type": "execute_result"
    }
   ],
   "source": [
    "lake_fish_count_df.drop_duplicates()"
   ]
  },
  {
   "cell_type": "code",
   "execution_count": 23,
   "id": "658e70d7-fdf0-4aea-ac56-7f1b29ae1409",
   "metadata": {},
   "outputs": [],
   "source": [
    "lake_fish_count_df = lake_fish_count_df.groupby('lake').count()"
   ]
  },
  {
   "cell_type": "code",
   "execution_count": 24,
   "id": "c00d86d5-dbe6-453c-9e01-4cc84b5d27cc",
   "metadata": {},
   "outputs": [],
   "source": [
    "lake_fish_count_df.to_csv('lake_fish_count.csv')"
   ]
  },
  {
   "cell_type": "markdown",
   "id": "c57798ac-4642-4a90-b6a8-b5c6d4bcfbc6",
   "metadata": {},
   "source": [
    "Step 1.3.5 using only python:"
   ]
  },
  {
   "cell_type": "code",
   "execution_count": 3,
   "id": "a9a7d1bc-5b0e-4c10-b021-bda37413b63e",
   "metadata": {},
   "outputs": [],
   "source": [
    "import csv"
   ]
  },
  {
   "cell_type": "code",
   "execution_count": 15,
   "id": "eb0edc11-60da-4676-ab76-922249adacf0",
   "metadata": {},
   "outputs": [],
   "source": [
    "lakes = {}"
   ]
  },
  {
   "cell_type": "code",
   "execution_count": 16,
   "id": "cc73dab1-f965-466e-a6be-c23a632f759f",
   "metadata": {},
   "outputs": [],
   "source": [
    "with open('lakeTrout_otolithGrowth_LakeClarkNP_vonBiela_1979_2012.csv', newline='') as laketroutcsv:\n",
    "    csvreader = csv.reader(laketroutcsv)\n",
    "    next(csvreader)\n",
    "    for row in csvreader:\n",
    "        if row[3] in lakes:\n",
    "            lakes[row[3]] += 1\n",
    "        else:\n",
    "            lakes[row[3]] = 1"
   ]
  },
  {
   "cell_type": "code",
   "execution_count": 18,
   "id": "4e269d74-aa6d-416e-aad5-9909da939a0a",
   "metadata": {},
   "outputs": [],
   "source": [
    "lakes"
   ]
  },
  {
   "cell_type": "code",
   "execution_count": 18,
   "id": "ac435c68-bf3e-4a24-b470-db025e3976aa",
   "metadata": {},
   "outputs": [
    {
     "data": {
      "text/plain": [
       "{'Little Lake Clark': 161,\n",
       " 'Kijik': 141,\n",
       " 'Portage': 373,\n",
       " 'Telaquana': 431,\n",
       " 'Kontrashibuna': 409,\n",
       " 'Lake Clark': 331,\n",
       " 'Fishtrap': 358,\n",
       " 'Lachbuna': 199}"
      ]
     },
     "execution_count": 18,
     "metadata": {},
     "output_type": "execute_result"
    }
   ],
   "source": [
    "#still need to finish annotating file and write the lake value counts to a csv"
   ]
  },
  {
   "cell_type": "markdown",
   "id": "d2694574-e6c5-4958-b14c-7eab96be6138",
   "metadata": {},
   "source": [
    "Not exceptionally dificult to do step 1.3.5 with pure python, but I can see how some of the other steps could be more difficult."
   ]
  },
  {
   "cell_type": "code",
   "execution_count": null,
   "id": "a62fffc3-f5a7-4a60-ada2-499c03f44b3e",
   "metadata": {},
   "outputs": [],
   "source": []
  }
 ],
 "metadata": {
  "kernelspec": {
   "display_name": "Python 3 (ipykernel)",
   "language": "python",
   "name": "python3"
  },
  "language_info": {
   "codemirror_mode": {
    "name": "ipython",
    "version": 3
   },
   "file_extension": ".py",
   "mimetype": "text/x-python",
   "name": "python",
   "nbconvert_exporter": "python",
   "pygments_lexer": "ipython3",
   "version": "3.9.12"
  }
 },
 "nbformat": 4,
 "nbformat_minor": 5
}
